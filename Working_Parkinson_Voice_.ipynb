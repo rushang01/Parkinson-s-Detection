{
  "cells": [
    {
      "cell_type": "markdown",
      "source": [
        "#Imports"
      ],
      "metadata": {
        "id": "LQcyZIFEaP35"
      },
      "id": "LQcyZIFEaP35"
    },
    {
      "cell_type": "code",
      "execution_count": null,
      "id": "0bacd605",
      "metadata": {
        "id": "0bacd605"
      },
      "outputs": [],
      "source": [
        "import numpy as np\n",
        "import pandas as pd\n",
        "from sklearn.model_selection import train_test_split\n",
        "from sklearn.ensemble import RandomForestClassifier\n",
        "from sklearn.svm import SVC\n",
        "import matplotlib.pyplot as plt"
      ]
    },
    {
      "cell_type": "markdown",
      "source": [
        "UCI Machine Learning Repository\n",
        "\n",
        "Source:\n",
        "\n",
        "The dataset was created by Max Little of the University of Oxford, in collaboration with the National Centre for Voice and Speech, Denver, Colorado, who recorded the speech signals. The original study published the feature extraction methods for general voice disorders.\n",
        "\n",
        "\n",
        "Data Set Information:\n",
        "\n",
        "This dataset is composed of a range of biomedical voice measurements from 31 people, 23 with Parkinson's disease (PD). Each column in the table is a particular voice measure, and each row corresponds one of 195 voice recording from these individuals (\"name\" column). The main aim of the data is to discriminate healthy people from those with PD, according to \"status\" column which is set to 0 for healthy and 1 for PD.\n",
        "\n",
        "The data is in ASCII CSV format. The rows of the CSV file contain an instance corresponding to one voice recording. "
      ],
      "metadata": {
        "id": "10giHBeceoAs"
      },
      "id": "10giHBeceoAs"
    },
    {
      "cell_type": "markdown",
      "source": [
        "#Data cleaning and Preprocessing"
      ],
      "metadata": {
        "id": "eVg2fmBWaY8I"
      },
      "id": "eVg2fmBWaY8I"
    },
    {
      "cell_type": "code",
      "execution_count": null,
      "id": "487d3555",
      "metadata": {
        "colab": {
          "base_uri": "https://localhost:8080/",
          "height": 299
        },
        "id": "487d3555",
        "outputId": "712780ec-33fb-4d51-b99a-dac46b6b1888"
      },
      "outputs": [
        {
          "output_type": "execute_result",
          "data": {
            "text/plain": [
              "             name  MDVP:Fo(Hz)  MDVP:Fhi(Hz)  MDVP:Flo(Hz)  MDVP:Jitter(%)  \\\n",
              "0  phon_R01_S01_1      119.992       157.302        74.997         0.00784   \n",
              "1  phon_R01_S01_2      122.400       148.650       113.819         0.00968   \n",
              "2  phon_R01_S01_3      116.682       131.111       111.555         0.01050   \n",
              "3  phon_R01_S01_4      116.676       137.871       111.366         0.00997   \n",
              "4  phon_R01_S01_5      116.014       141.781       110.655         0.01284   \n",
              "\n",
              "   MDVP:Jitter(Abs)  MDVP:RAP  MDVP:PPQ  Jitter:DDP  MDVP:Shimmer  ...  \\\n",
              "0           0.00007   0.00370   0.00554     0.01109       0.04374  ...   \n",
              "1           0.00008   0.00465   0.00696     0.01394       0.06134  ...   \n",
              "2           0.00009   0.00544   0.00781     0.01633       0.05233  ...   \n",
              "3           0.00009   0.00502   0.00698     0.01505       0.05492  ...   \n",
              "4           0.00011   0.00655   0.00908     0.01966       0.06425  ...   \n",
              "\n",
              "   Shimmer:DDA      NHR     HNR  status      RPDE       DFA   spread1  \\\n",
              "0      0.06545  0.02211  21.033       1  0.414783  0.815285 -4.813031   \n",
              "1      0.09403  0.01929  19.085       1  0.458359  0.819521 -4.075192   \n",
              "2      0.08270  0.01309  20.651       1  0.429895  0.825288 -4.443179   \n",
              "3      0.08771  0.01353  20.644       1  0.434969  0.819235 -4.117501   \n",
              "4      0.10470  0.01767  19.649       1  0.417356  0.823484 -3.747787   \n",
              "\n",
              "    spread2        D2       PPE  \n",
              "0  0.266482  2.301442  0.284654  \n",
              "1  0.335590  2.486855  0.368674  \n",
              "2  0.311173  2.342259  0.332634  \n",
              "3  0.334147  2.405554  0.368975  \n",
              "4  0.234513  2.332180  0.410335  \n",
              "\n",
              "[5 rows x 24 columns]"
            ],
            "text/html": [
              "\n",
              "  <div id=\"df-eef34d6c-bcee-40df-aa45-7e5db49a9dd4\">\n",
              "    <div class=\"colab-df-container\">\n",
              "      <div>\n",
              "<style scoped>\n",
              "    .dataframe tbody tr th:only-of-type {\n",
              "        vertical-align: middle;\n",
              "    }\n",
              "\n",
              "    .dataframe tbody tr th {\n",
              "        vertical-align: top;\n",
              "    }\n",
              "\n",
              "    .dataframe thead th {\n",
              "        text-align: right;\n",
              "    }\n",
              "</style>\n",
              "<table border=\"1\" class=\"dataframe\">\n",
              "  <thead>\n",
              "    <tr style=\"text-align: right;\">\n",
              "      <th></th>\n",
              "      <th>name</th>\n",
              "      <th>MDVP:Fo(Hz)</th>\n",
              "      <th>MDVP:Fhi(Hz)</th>\n",
              "      <th>MDVP:Flo(Hz)</th>\n",
              "      <th>MDVP:Jitter(%)</th>\n",
              "      <th>MDVP:Jitter(Abs)</th>\n",
              "      <th>MDVP:RAP</th>\n",
              "      <th>MDVP:PPQ</th>\n",
              "      <th>Jitter:DDP</th>\n",
              "      <th>MDVP:Shimmer</th>\n",
              "      <th>...</th>\n",
              "      <th>Shimmer:DDA</th>\n",
              "      <th>NHR</th>\n",
              "      <th>HNR</th>\n",
              "      <th>status</th>\n",
              "      <th>RPDE</th>\n",
              "      <th>DFA</th>\n",
              "      <th>spread1</th>\n",
              "      <th>spread2</th>\n",
              "      <th>D2</th>\n",
              "      <th>PPE</th>\n",
              "    </tr>\n",
              "  </thead>\n",
              "  <tbody>\n",
              "    <tr>\n",
              "      <th>0</th>\n",
              "      <td>phon_R01_S01_1</td>\n",
              "      <td>119.992</td>\n",
              "      <td>157.302</td>\n",
              "      <td>74.997</td>\n",
              "      <td>0.00784</td>\n",
              "      <td>0.00007</td>\n",
              "      <td>0.00370</td>\n",
              "      <td>0.00554</td>\n",
              "      <td>0.01109</td>\n",
              "      <td>0.04374</td>\n",
              "      <td>...</td>\n",
              "      <td>0.06545</td>\n",
              "      <td>0.02211</td>\n",
              "      <td>21.033</td>\n",
              "      <td>1</td>\n",
              "      <td>0.414783</td>\n",
              "      <td>0.815285</td>\n",
              "      <td>-4.813031</td>\n",
              "      <td>0.266482</td>\n",
              "      <td>2.301442</td>\n",
              "      <td>0.284654</td>\n",
              "    </tr>\n",
              "    <tr>\n",
              "      <th>1</th>\n",
              "      <td>phon_R01_S01_2</td>\n",
              "      <td>122.400</td>\n",
              "      <td>148.650</td>\n",
              "      <td>113.819</td>\n",
              "      <td>0.00968</td>\n",
              "      <td>0.00008</td>\n",
              "      <td>0.00465</td>\n",
              "      <td>0.00696</td>\n",
              "      <td>0.01394</td>\n",
              "      <td>0.06134</td>\n",
              "      <td>...</td>\n",
              "      <td>0.09403</td>\n",
              "      <td>0.01929</td>\n",
              "      <td>19.085</td>\n",
              "      <td>1</td>\n",
              "      <td>0.458359</td>\n",
              "      <td>0.819521</td>\n",
              "      <td>-4.075192</td>\n",
              "      <td>0.335590</td>\n",
              "      <td>2.486855</td>\n",
              "      <td>0.368674</td>\n",
              "    </tr>\n",
              "    <tr>\n",
              "      <th>2</th>\n",
              "      <td>phon_R01_S01_3</td>\n",
              "      <td>116.682</td>\n",
              "      <td>131.111</td>\n",
              "      <td>111.555</td>\n",
              "      <td>0.01050</td>\n",
              "      <td>0.00009</td>\n",
              "      <td>0.00544</td>\n",
              "      <td>0.00781</td>\n",
              "      <td>0.01633</td>\n",
              "      <td>0.05233</td>\n",
              "      <td>...</td>\n",
              "      <td>0.08270</td>\n",
              "      <td>0.01309</td>\n",
              "      <td>20.651</td>\n",
              "      <td>1</td>\n",
              "      <td>0.429895</td>\n",
              "      <td>0.825288</td>\n",
              "      <td>-4.443179</td>\n",
              "      <td>0.311173</td>\n",
              "      <td>2.342259</td>\n",
              "      <td>0.332634</td>\n",
              "    </tr>\n",
              "    <tr>\n",
              "      <th>3</th>\n",
              "      <td>phon_R01_S01_4</td>\n",
              "      <td>116.676</td>\n",
              "      <td>137.871</td>\n",
              "      <td>111.366</td>\n",
              "      <td>0.00997</td>\n",
              "      <td>0.00009</td>\n",
              "      <td>0.00502</td>\n",
              "      <td>0.00698</td>\n",
              "      <td>0.01505</td>\n",
              "      <td>0.05492</td>\n",
              "      <td>...</td>\n",
              "      <td>0.08771</td>\n",
              "      <td>0.01353</td>\n",
              "      <td>20.644</td>\n",
              "      <td>1</td>\n",
              "      <td>0.434969</td>\n",
              "      <td>0.819235</td>\n",
              "      <td>-4.117501</td>\n",
              "      <td>0.334147</td>\n",
              "      <td>2.405554</td>\n",
              "      <td>0.368975</td>\n",
              "    </tr>\n",
              "    <tr>\n",
              "      <th>4</th>\n",
              "      <td>phon_R01_S01_5</td>\n",
              "      <td>116.014</td>\n",
              "      <td>141.781</td>\n",
              "      <td>110.655</td>\n",
              "      <td>0.01284</td>\n",
              "      <td>0.00011</td>\n",
              "      <td>0.00655</td>\n",
              "      <td>0.00908</td>\n",
              "      <td>0.01966</td>\n",
              "      <td>0.06425</td>\n",
              "      <td>...</td>\n",
              "      <td>0.10470</td>\n",
              "      <td>0.01767</td>\n",
              "      <td>19.649</td>\n",
              "      <td>1</td>\n",
              "      <td>0.417356</td>\n",
              "      <td>0.823484</td>\n",
              "      <td>-3.747787</td>\n",
              "      <td>0.234513</td>\n",
              "      <td>2.332180</td>\n",
              "      <td>0.410335</td>\n",
              "    </tr>\n",
              "  </tbody>\n",
              "</table>\n",
              "<p>5 rows × 24 columns</p>\n",
              "</div>\n",
              "      <button class=\"colab-df-convert\" onclick=\"convertToInteractive('df-eef34d6c-bcee-40df-aa45-7e5db49a9dd4')\"\n",
              "              title=\"Convert this dataframe to an interactive table.\"\n",
              "              style=\"display:none;\">\n",
              "        \n",
              "  <svg xmlns=\"http://www.w3.org/2000/svg\" height=\"24px\"viewBox=\"0 0 24 24\"\n",
              "       width=\"24px\">\n",
              "    <path d=\"M0 0h24v24H0V0z\" fill=\"none\"/>\n",
              "    <path d=\"M18.56 5.44l.94 2.06.94-2.06 2.06-.94-2.06-.94-.94-2.06-.94 2.06-2.06.94zm-11 1L8.5 8.5l.94-2.06 2.06-.94-2.06-.94L8.5 2.5l-.94 2.06-2.06.94zm10 10l.94 2.06.94-2.06 2.06-.94-2.06-.94-.94-2.06-.94 2.06-2.06.94z\"/><path d=\"M17.41 7.96l-1.37-1.37c-.4-.4-.92-.59-1.43-.59-.52 0-1.04.2-1.43.59L10.3 9.45l-7.72 7.72c-.78.78-.78 2.05 0 2.83L4 21.41c.39.39.9.59 1.41.59.51 0 1.02-.2 1.41-.59l7.78-7.78 2.81-2.81c.8-.78.8-2.07 0-2.86zM5.41 20L4 18.59l7.72-7.72 1.47 1.35L5.41 20z\"/>\n",
              "  </svg>\n",
              "      </button>\n",
              "      \n",
              "  <style>\n",
              "    .colab-df-container {\n",
              "      display:flex;\n",
              "      flex-wrap:wrap;\n",
              "      gap: 12px;\n",
              "    }\n",
              "\n",
              "    .colab-df-convert {\n",
              "      background-color: #E8F0FE;\n",
              "      border: none;\n",
              "      border-radius: 50%;\n",
              "      cursor: pointer;\n",
              "      display: none;\n",
              "      fill: #1967D2;\n",
              "      height: 32px;\n",
              "      padding: 0 0 0 0;\n",
              "      width: 32px;\n",
              "    }\n",
              "\n",
              "    .colab-df-convert:hover {\n",
              "      background-color: #E2EBFA;\n",
              "      box-shadow: 0px 1px 2px rgba(60, 64, 67, 0.3), 0px 1px 3px 1px rgba(60, 64, 67, 0.15);\n",
              "      fill: #174EA6;\n",
              "    }\n",
              "\n",
              "    [theme=dark] .colab-df-convert {\n",
              "      background-color: #3B4455;\n",
              "      fill: #D2E3FC;\n",
              "    }\n",
              "\n",
              "    [theme=dark] .colab-df-convert:hover {\n",
              "      background-color: #434B5C;\n",
              "      box-shadow: 0px 1px 3px 1px rgba(0, 0, 0, 0.15);\n",
              "      filter: drop-shadow(0px 1px 2px rgba(0, 0, 0, 0.3));\n",
              "      fill: #FFFFFF;\n",
              "    }\n",
              "  </style>\n",
              "\n",
              "      <script>\n",
              "        const buttonEl =\n",
              "          document.querySelector('#df-eef34d6c-bcee-40df-aa45-7e5db49a9dd4 button.colab-df-convert');\n",
              "        buttonEl.style.display =\n",
              "          google.colab.kernel.accessAllowed ? 'block' : 'none';\n",
              "\n",
              "        async function convertToInteractive(key) {\n",
              "          const element = document.querySelector('#df-eef34d6c-bcee-40df-aa45-7e5db49a9dd4');\n",
              "          const dataTable =\n",
              "            await google.colab.kernel.invokeFunction('convertToInteractive',\n",
              "                                                     [key], {});\n",
              "          if (!dataTable) return;\n",
              "\n",
              "          const docLinkHtml = 'Like what you see? Visit the ' +\n",
              "            '<a target=\"_blank\" href=https://colab.research.google.com/notebooks/data_table.ipynb>data table notebook</a>'\n",
              "            + ' to learn more about interactive tables.';\n",
              "          element.innerHTML = '';\n",
              "          dataTable['output_type'] = 'display_data';\n",
              "          await google.colab.output.renderOutput(dataTable, element);\n",
              "          const docLink = document.createElement('div');\n",
              "          docLink.innerHTML = docLinkHtml;\n",
              "          element.appendChild(docLink);\n",
              "        }\n",
              "      </script>\n",
              "    </div>\n",
              "  </div>\n",
              "  "
            ]
          },
          "metadata": {},
          "execution_count": 2
        }
      ],
      "source": [
        "par = pd.read_csv(\"parkinsons.csv\")\n",
        "par.head()"
      ]
    },
    {
      "cell_type": "markdown",
      "source": [
        ""
      ],
      "metadata": {
        "id": "gxQ-s7uVfc6E"
      },
      "id": "gxQ-s7uVfc6E"
    },
    {
      "cell_type": "markdown",
      "metadata": {
        "id": "b8e015b3"
      },
      "source": [
        "\n",
        "* MDVP:           Fo (Hz)\tAverage vocal fundamental frequency\n",
        "\n",
        "* MDVP:           Fhi (Hz)\tMaximum vocal fundamental frequency\n",
        "\n",
        "* MDVP:           Flo (Hz)\tMinimum vocal fundamental frequency\n",
        "* MDVP:           Jitter (%)\tparameter of frequency variation from * cycle to cycle- Five measures of variation in                                   fundamental frequency\n",
        "* MDVP:           Jitter (Abs)\n",
        "* MDVP:           RAP\n",
        "* MDVP:           PPQ\n",
        "* Jitter:         DDP\n",
        "* MDVP:           shimmer relates to the amplitude variation of the sound wave- Shimmer\tSix measures of variation in                   amplitude\n",
        "* MDVP:           Shimmer (dB)\n",
        "* Shimmer:        APQ3\n",
        "* Shimmer:        APQ5\n",
        "* MDVP:           APQ\n",
        "* Shimmer:        DDA\n",
        "* Two measures of ratio of noise to tonal components in the voice\n",
        "\n",
        "> * NHR\n",
        "* HNR\n",
        "\n",
        "* Two nonlinear dynamical complexity measures\n",
        "\n",
        "> * RPDE        \t\n",
        "* D2\n",
        "\n",
        "* DFA:\t            Signal fractal scaling exponent\n",
        "* Three nonlinear measures of fundamental frequency variation\n",
        "\n",
        "> * Spread1        \t\n",
        "* Spread2\n",
        "* PPE\n",
        "\n",
        "* Status: Health status of the subject: one - Parkinson’s; zero - healthy"
      ],
      "id": "b8e015b3"
    },
    {
      "cell_type": "code",
      "execution_count": null,
      "id": "88a91ba3",
      "metadata": {
        "colab": {
          "base_uri": "https://localhost:8080/"
        },
        "id": "88a91ba3",
        "outputId": "a67eb51e-967e-4eb9-defb-aa02c43b5a7e"
      },
      "outputs": [
        {
          "output_type": "execute_result",
          "data": {
            "text/plain": [
              "(195, 24)"
            ]
          },
          "metadata": {},
          "execution_count": 3
        }
      ],
      "source": [
        "par.shape"
      ]
    },
    {
      "cell_type": "code",
      "execution_count": null,
      "id": "4d164023",
      "metadata": {
        "id": "4d164023"
      },
      "outputs": [],
      "source": [
        "n_patients = par.shape[0]   ##number of patients\n",
        "n_features = par.shape[1]-1 ##number of features"
      ]
    },
    {
      "cell_type": "code",
      "execution_count": null,
      "id": "bebc110e",
      "metadata": {
        "id": "bebc110e"
      },
      "outputs": [],
      "source": [
        "n_parkinsons = par[par['status'] == 1].shape[0] ##persons with parkinson \n",
        "n_healthy = par[par['status'] == 0].shape[0]"
      ]
    },
    {
      "cell_type": "code",
      "execution_count": null,
      "id": "e92f69b6",
      "metadata": {
        "colab": {
          "base_uri": "https://localhost:8080/"
        },
        "id": "e92f69b6",
        "outputId": "a3286830-4301-48ab-f408-e44328e8067f"
      },
      "outputs": [
        {
          "output_type": "stream",
          "name": "stdout",
          "text": [
            "total number of patients: 195\n",
            "number of features: 23\n",
            "number of patients with parkinson: 147\n",
            "number of patients without parkinsons: 48\n"
          ]
        }
      ],
      "source": [
        "print(\"total number of patients:\", n_patients)\n",
        "print(\"number of features:\", n_features)\n",
        "print(\"number of patients with parkinson:\", n_parkinsons)\n",
        "print(\"number of patients without parkinsons:\", n_healthy)\n"
      ]
    },
    {
      "cell_type": "code",
      "execution_count": null,
      "id": "20b2b510",
      "metadata": {
        "id": "20b2b510"
      },
      "outputs": [],
      "source": [
        "X = list(par.columns[1:17]) + list(par.columns[18:])\n",
        "Y  = par.columns[17]"
      ]
    },
    {
      "cell_type": "code",
      "execution_count": null,
      "id": "b939c594",
      "metadata": {
        "colab": {
          "base_uri": "https://localhost:8080/",
          "height": 36
        },
        "id": "b939c594",
        "outputId": "ba1b08da-ea8e-4926-aedb-f48c9b6f290a"
      },
      "outputs": [
        {
          "output_type": "execute_result",
          "data": {
            "text/plain": [
              "'name'"
            ],
            "application/vnd.google.colaboratory.intrinsic+json": {
              "type": "string"
            }
          },
          "metadata": {},
          "execution_count": 8
        }
      ],
      "source": [
        "par.columns[0]"
      ]
    },
    {
      "cell_type": "code",
      "execution_count": null,
      "id": "88a649c6",
      "metadata": {
        "id": "88a649c6"
      },
      "outputs": [],
      "source": [
        "Xf = par[X]\n",
        "Yf = par[Y]"
      ]
    },
    {
      "cell_type": "code",
      "execution_count": null,
      "id": "b9354df3",
      "metadata": {
        "colab": {
          "base_uri": "https://localhost:8080/",
          "height": 488
        },
        "id": "b9354df3",
        "outputId": "1eaf0d4f-d778-4ffb-e780-e729abec04d7"
      },
      "outputs": [
        {
          "output_type": "execute_result",
          "data": {
            "text/plain": [
              "     MDVP:Fo(Hz)  MDVP:Fhi(Hz)  MDVP:Flo(Hz)  MDVP:Jitter(%)  \\\n",
              "0        119.992       157.302        74.997         0.00784   \n",
              "1        122.400       148.650       113.819         0.00968   \n",
              "2        116.682       131.111       111.555         0.01050   \n",
              "3        116.676       137.871       111.366         0.00997   \n",
              "4        116.014       141.781       110.655         0.01284   \n",
              "..           ...           ...           ...             ...   \n",
              "190      174.188       230.978        94.261         0.00459   \n",
              "191      209.516       253.017        89.488         0.00564   \n",
              "192      174.688       240.005        74.287         0.01360   \n",
              "193      198.764       396.961        74.904         0.00740   \n",
              "194      214.289       260.277        77.973         0.00567   \n",
              "\n",
              "     MDVP:Jitter(Abs)  MDVP:RAP  MDVP:PPQ  Jitter:DDP  MDVP:Shimmer  \\\n",
              "0             0.00007   0.00370   0.00554     0.01109       0.04374   \n",
              "1             0.00008   0.00465   0.00696     0.01394       0.06134   \n",
              "2             0.00009   0.00544   0.00781     0.01633       0.05233   \n",
              "3             0.00009   0.00502   0.00698     0.01505       0.05492   \n",
              "4             0.00011   0.00655   0.00908     0.01966       0.06425   \n",
              "..                ...       ...       ...         ...           ...   \n",
              "190           0.00003   0.00263   0.00259     0.00790       0.04087   \n",
              "191           0.00003   0.00331   0.00292     0.00994       0.02751   \n",
              "192           0.00008   0.00624   0.00564     0.01873       0.02308   \n",
              "193           0.00004   0.00370   0.00390     0.01109       0.02296   \n",
              "194           0.00003   0.00295   0.00317     0.00885       0.01884   \n",
              "\n",
              "     MDVP:Shimmer(dB)  ...  MDVP:APQ  Shimmer:DDA      NHR     HNR      RPDE  \\\n",
              "0               0.426  ...   0.02971      0.06545  0.02211  21.033  0.414783   \n",
              "1               0.626  ...   0.04368      0.09403  0.01929  19.085  0.458359   \n",
              "2               0.482  ...   0.03590      0.08270  0.01309  20.651  0.429895   \n",
              "3               0.517  ...   0.03772      0.08771  0.01353  20.644  0.434969   \n",
              "4               0.584  ...   0.04465      0.10470  0.01767  19.649  0.417356   \n",
              "..                ...  ...       ...          ...      ...     ...       ...   \n",
              "190             0.405  ...   0.02745      0.07008  0.02764  19.517  0.448439   \n",
              "191             0.263  ...   0.01879      0.04812  0.01810  19.147  0.431674   \n",
              "192             0.256  ...   0.01667      0.03804  0.10715  17.883  0.407567   \n",
              "193             0.241  ...   0.01588      0.03794  0.07223  19.020  0.451221   \n",
              "194             0.190  ...   0.01373      0.03078  0.04398  21.209  0.462803   \n",
              "\n",
              "          DFA   spread1   spread2        D2       PPE  \n",
              "0    0.815285 -4.813031  0.266482  2.301442  0.284654  \n",
              "1    0.819521 -4.075192  0.335590  2.486855  0.368674  \n",
              "2    0.825288 -4.443179  0.311173  2.342259  0.332634  \n",
              "3    0.819235 -4.117501  0.334147  2.405554  0.368975  \n",
              "4    0.823484 -3.747787  0.234513  2.332180  0.410335  \n",
              "..        ...       ...       ...       ...       ...  \n",
              "190  0.657899 -6.538586  0.121952  2.657476  0.133050  \n",
              "191  0.683244 -6.195325  0.129303  2.784312  0.168895  \n",
              "192  0.655683 -6.787197  0.158453  2.679772  0.131728  \n",
              "193  0.643956 -6.744577  0.207454  2.138608  0.123306  \n",
              "194  0.664357 -5.724056  0.190667  2.555477  0.148569  \n",
              "\n",
              "[195 rows x 22 columns]"
            ],
            "text/html": [
              "\n",
              "  <div id=\"df-69fac2d0-b178-4baf-93c2-61327dc7178b\">\n",
              "    <div class=\"colab-df-container\">\n",
              "      <div>\n",
              "<style scoped>\n",
              "    .dataframe tbody tr th:only-of-type {\n",
              "        vertical-align: middle;\n",
              "    }\n",
              "\n",
              "    .dataframe tbody tr th {\n",
              "        vertical-align: top;\n",
              "    }\n",
              "\n",
              "    .dataframe thead th {\n",
              "        text-align: right;\n",
              "    }\n",
              "</style>\n",
              "<table border=\"1\" class=\"dataframe\">\n",
              "  <thead>\n",
              "    <tr style=\"text-align: right;\">\n",
              "      <th></th>\n",
              "      <th>MDVP:Fo(Hz)</th>\n",
              "      <th>MDVP:Fhi(Hz)</th>\n",
              "      <th>MDVP:Flo(Hz)</th>\n",
              "      <th>MDVP:Jitter(%)</th>\n",
              "      <th>MDVP:Jitter(Abs)</th>\n",
              "      <th>MDVP:RAP</th>\n",
              "      <th>MDVP:PPQ</th>\n",
              "      <th>Jitter:DDP</th>\n",
              "      <th>MDVP:Shimmer</th>\n",
              "      <th>MDVP:Shimmer(dB)</th>\n",
              "      <th>...</th>\n",
              "      <th>MDVP:APQ</th>\n",
              "      <th>Shimmer:DDA</th>\n",
              "      <th>NHR</th>\n",
              "      <th>HNR</th>\n",
              "      <th>RPDE</th>\n",
              "      <th>DFA</th>\n",
              "      <th>spread1</th>\n",
              "      <th>spread2</th>\n",
              "      <th>D2</th>\n",
              "      <th>PPE</th>\n",
              "    </tr>\n",
              "  </thead>\n",
              "  <tbody>\n",
              "    <tr>\n",
              "      <th>0</th>\n",
              "      <td>119.992</td>\n",
              "      <td>157.302</td>\n",
              "      <td>74.997</td>\n",
              "      <td>0.00784</td>\n",
              "      <td>0.00007</td>\n",
              "      <td>0.00370</td>\n",
              "      <td>0.00554</td>\n",
              "      <td>0.01109</td>\n",
              "      <td>0.04374</td>\n",
              "      <td>0.426</td>\n",
              "      <td>...</td>\n",
              "      <td>0.02971</td>\n",
              "      <td>0.06545</td>\n",
              "      <td>0.02211</td>\n",
              "      <td>21.033</td>\n",
              "      <td>0.414783</td>\n",
              "      <td>0.815285</td>\n",
              "      <td>-4.813031</td>\n",
              "      <td>0.266482</td>\n",
              "      <td>2.301442</td>\n",
              "      <td>0.284654</td>\n",
              "    </tr>\n",
              "    <tr>\n",
              "      <th>1</th>\n",
              "      <td>122.400</td>\n",
              "      <td>148.650</td>\n",
              "      <td>113.819</td>\n",
              "      <td>0.00968</td>\n",
              "      <td>0.00008</td>\n",
              "      <td>0.00465</td>\n",
              "      <td>0.00696</td>\n",
              "      <td>0.01394</td>\n",
              "      <td>0.06134</td>\n",
              "      <td>0.626</td>\n",
              "      <td>...</td>\n",
              "      <td>0.04368</td>\n",
              "      <td>0.09403</td>\n",
              "      <td>0.01929</td>\n",
              "      <td>19.085</td>\n",
              "      <td>0.458359</td>\n",
              "      <td>0.819521</td>\n",
              "      <td>-4.075192</td>\n",
              "      <td>0.335590</td>\n",
              "      <td>2.486855</td>\n",
              "      <td>0.368674</td>\n",
              "    </tr>\n",
              "    <tr>\n",
              "      <th>2</th>\n",
              "      <td>116.682</td>\n",
              "      <td>131.111</td>\n",
              "      <td>111.555</td>\n",
              "      <td>0.01050</td>\n",
              "      <td>0.00009</td>\n",
              "      <td>0.00544</td>\n",
              "      <td>0.00781</td>\n",
              "      <td>0.01633</td>\n",
              "      <td>0.05233</td>\n",
              "      <td>0.482</td>\n",
              "      <td>...</td>\n",
              "      <td>0.03590</td>\n",
              "      <td>0.08270</td>\n",
              "      <td>0.01309</td>\n",
              "      <td>20.651</td>\n",
              "      <td>0.429895</td>\n",
              "      <td>0.825288</td>\n",
              "      <td>-4.443179</td>\n",
              "      <td>0.311173</td>\n",
              "      <td>2.342259</td>\n",
              "      <td>0.332634</td>\n",
              "    </tr>\n",
              "    <tr>\n",
              "      <th>3</th>\n",
              "      <td>116.676</td>\n",
              "      <td>137.871</td>\n",
              "      <td>111.366</td>\n",
              "      <td>0.00997</td>\n",
              "      <td>0.00009</td>\n",
              "      <td>0.00502</td>\n",
              "      <td>0.00698</td>\n",
              "      <td>0.01505</td>\n",
              "      <td>0.05492</td>\n",
              "      <td>0.517</td>\n",
              "      <td>...</td>\n",
              "      <td>0.03772</td>\n",
              "      <td>0.08771</td>\n",
              "      <td>0.01353</td>\n",
              "      <td>20.644</td>\n",
              "      <td>0.434969</td>\n",
              "      <td>0.819235</td>\n",
              "      <td>-4.117501</td>\n",
              "      <td>0.334147</td>\n",
              "      <td>2.405554</td>\n",
              "      <td>0.368975</td>\n",
              "    </tr>\n",
              "    <tr>\n",
              "      <th>4</th>\n",
              "      <td>116.014</td>\n",
              "      <td>141.781</td>\n",
              "      <td>110.655</td>\n",
              "      <td>0.01284</td>\n",
              "      <td>0.00011</td>\n",
              "      <td>0.00655</td>\n",
              "      <td>0.00908</td>\n",
              "      <td>0.01966</td>\n",
              "      <td>0.06425</td>\n",
              "      <td>0.584</td>\n",
              "      <td>...</td>\n",
              "      <td>0.04465</td>\n",
              "      <td>0.10470</td>\n",
              "      <td>0.01767</td>\n",
              "      <td>19.649</td>\n",
              "      <td>0.417356</td>\n",
              "      <td>0.823484</td>\n",
              "      <td>-3.747787</td>\n",
              "      <td>0.234513</td>\n",
              "      <td>2.332180</td>\n",
              "      <td>0.410335</td>\n",
              "    </tr>\n",
              "    <tr>\n",
              "      <th>...</th>\n",
              "      <td>...</td>\n",
              "      <td>...</td>\n",
              "      <td>...</td>\n",
              "      <td>...</td>\n",
              "      <td>...</td>\n",
              "      <td>...</td>\n",
              "      <td>...</td>\n",
              "      <td>...</td>\n",
              "      <td>...</td>\n",
              "      <td>...</td>\n",
              "      <td>...</td>\n",
              "      <td>...</td>\n",
              "      <td>...</td>\n",
              "      <td>...</td>\n",
              "      <td>...</td>\n",
              "      <td>...</td>\n",
              "      <td>...</td>\n",
              "      <td>...</td>\n",
              "      <td>...</td>\n",
              "      <td>...</td>\n",
              "      <td>...</td>\n",
              "    </tr>\n",
              "    <tr>\n",
              "      <th>190</th>\n",
              "      <td>174.188</td>\n",
              "      <td>230.978</td>\n",
              "      <td>94.261</td>\n",
              "      <td>0.00459</td>\n",
              "      <td>0.00003</td>\n",
              "      <td>0.00263</td>\n",
              "      <td>0.00259</td>\n",
              "      <td>0.00790</td>\n",
              "      <td>0.04087</td>\n",
              "      <td>0.405</td>\n",
              "      <td>...</td>\n",
              "      <td>0.02745</td>\n",
              "      <td>0.07008</td>\n",
              "      <td>0.02764</td>\n",
              "      <td>19.517</td>\n",
              "      <td>0.448439</td>\n",
              "      <td>0.657899</td>\n",
              "      <td>-6.538586</td>\n",
              "      <td>0.121952</td>\n",
              "      <td>2.657476</td>\n",
              "      <td>0.133050</td>\n",
              "    </tr>\n",
              "    <tr>\n",
              "      <th>191</th>\n",
              "      <td>209.516</td>\n",
              "      <td>253.017</td>\n",
              "      <td>89.488</td>\n",
              "      <td>0.00564</td>\n",
              "      <td>0.00003</td>\n",
              "      <td>0.00331</td>\n",
              "      <td>0.00292</td>\n",
              "      <td>0.00994</td>\n",
              "      <td>0.02751</td>\n",
              "      <td>0.263</td>\n",
              "      <td>...</td>\n",
              "      <td>0.01879</td>\n",
              "      <td>0.04812</td>\n",
              "      <td>0.01810</td>\n",
              "      <td>19.147</td>\n",
              "      <td>0.431674</td>\n",
              "      <td>0.683244</td>\n",
              "      <td>-6.195325</td>\n",
              "      <td>0.129303</td>\n",
              "      <td>2.784312</td>\n",
              "      <td>0.168895</td>\n",
              "    </tr>\n",
              "    <tr>\n",
              "      <th>192</th>\n",
              "      <td>174.688</td>\n",
              "      <td>240.005</td>\n",
              "      <td>74.287</td>\n",
              "      <td>0.01360</td>\n",
              "      <td>0.00008</td>\n",
              "      <td>0.00624</td>\n",
              "      <td>0.00564</td>\n",
              "      <td>0.01873</td>\n",
              "      <td>0.02308</td>\n",
              "      <td>0.256</td>\n",
              "      <td>...</td>\n",
              "      <td>0.01667</td>\n",
              "      <td>0.03804</td>\n",
              "      <td>0.10715</td>\n",
              "      <td>17.883</td>\n",
              "      <td>0.407567</td>\n",
              "      <td>0.655683</td>\n",
              "      <td>-6.787197</td>\n",
              "      <td>0.158453</td>\n",
              "      <td>2.679772</td>\n",
              "      <td>0.131728</td>\n",
              "    </tr>\n",
              "    <tr>\n",
              "      <th>193</th>\n",
              "      <td>198.764</td>\n",
              "      <td>396.961</td>\n",
              "      <td>74.904</td>\n",
              "      <td>0.00740</td>\n",
              "      <td>0.00004</td>\n",
              "      <td>0.00370</td>\n",
              "      <td>0.00390</td>\n",
              "      <td>0.01109</td>\n",
              "      <td>0.02296</td>\n",
              "      <td>0.241</td>\n",
              "      <td>...</td>\n",
              "      <td>0.01588</td>\n",
              "      <td>0.03794</td>\n",
              "      <td>0.07223</td>\n",
              "      <td>19.020</td>\n",
              "      <td>0.451221</td>\n",
              "      <td>0.643956</td>\n",
              "      <td>-6.744577</td>\n",
              "      <td>0.207454</td>\n",
              "      <td>2.138608</td>\n",
              "      <td>0.123306</td>\n",
              "    </tr>\n",
              "    <tr>\n",
              "      <th>194</th>\n",
              "      <td>214.289</td>\n",
              "      <td>260.277</td>\n",
              "      <td>77.973</td>\n",
              "      <td>0.00567</td>\n",
              "      <td>0.00003</td>\n",
              "      <td>0.00295</td>\n",
              "      <td>0.00317</td>\n",
              "      <td>0.00885</td>\n",
              "      <td>0.01884</td>\n",
              "      <td>0.190</td>\n",
              "      <td>...</td>\n",
              "      <td>0.01373</td>\n",
              "      <td>0.03078</td>\n",
              "      <td>0.04398</td>\n",
              "      <td>21.209</td>\n",
              "      <td>0.462803</td>\n",
              "      <td>0.664357</td>\n",
              "      <td>-5.724056</td>\n",
              "      <td>0.190667</td>\n",
              "      <td>2.555477</td>\n",
              "      <td>0.148569</td>\n",
              "    </tr>\n",
              "  </tbody>\n",
              "</table>\n",
              "<p>195 rows × 22 columns</p>\n",
              "</div>\n",
              "      <button class=\"colab-df-convert\" onclick=\"convertToInteractive('df-69fac2d0-b178-4baf-93c2-61327dc7178b')\"\n",
              "              title=\"Convert this dataframe to an interactive table.\"\n",
              "              style=\"display:none;\">\n",
              "        \n",
              "  <svg xmlns=\"http://www.w3.org/2000/svg\" height=\"24px\"viewBox=\"0 0 24 24\"\n",
              "       width=\"24px\">\n",
              "    <path d=\"M0 0h24v24H0V0z\" fill=\"none\"/>\n",
              "    <path d=\"M18.56 5.44l.94 2.06.94-2.06 2.06-.94-2.06-.94-.94-2.06-.94 2.06-2.06.94zm-11 1L8.5 8.5l.94-2.06 2.06-.94-2.06-.94L8.5 2.5l-.94 2.06-2.06.94zm10 10l.94 2.06.94-2.06 2.06-.94-2.06-.94-.94-2.06-.94 2.06-2.06.94z\"/><path d=\"M17.41 7.96l-1.37-1.37c-.4-.4-.92-.59-1.43-.59-.52 0-1.04.2-1.43.59L10.3 9.45l-7.72 7.72c-.78.78-.78 2.05 0 2.83L4 21.41c.39.39.9.59 1.41.59.51 0 1.02-.2 1.41-.59l7.78-7.78 2.81-2.81c.8-.78.8-2.07 0-2.86zM5.41 20L4 18.59l7.72-7.72 1.47 1.35L5.41 20z\"/>\n",
              "  </svg>\n",
              "      </button>\n",
              "      \n",
              "  <style>\n",
              "    .colab-df-container {\n",
              "      display:flex;\n",
              "      flex-wrap:wrap;\n",
              "      gap: 12px;\n",
              "    }\n",
              "\n",
              "    .colab-df-convert {\n",
              "      background-color: #E8F0FE;\n",
              "      border: none;\n",
              "      border-radius: 50%;\n",
              "      cursor: pointer;\n",
              "      display: none;\n",
              "      fill: #1967D2;\n",
              "      height: 32px;\n",
              "      padding: 0 0 0 0;\n",
              "      width: 32px;\n",
              "    }\n",
              "\n",
              "    .colab-df-convert:hover {\n",
              "      background-color: #E2EBFA;\n",
              "      box-shadow: 0px 1px 2px rgba(60, 64, 67, 0.3), 0px 1px 3px 1px rgba(60, 64, 67, 0.15);\n",
              "      fill: #174EA6;\n",
              "    }\n",
              "\n",
              "    [theme=dark] .colab-df-convert {\n",
              "      background-color: #3B4455;\n",
              "      fill: #D2E3FC;\n",
              "    }\n",
              "\n",
              "    [theme=dark] .colab-df-convert:hover {\n",
              "      background-color: #434B5C;\n",
              "      box-shadow: 0px 1px 3px 1px rgba(0, 0, 0, 0.15);\n",
              "      filter: drop-shadow(0px 1px 2px rgba(0, 0, 0, 0.3));\n",
              "      fill: #FFFFFF;\n",
              "    }\n",
              "  </style>\n",
              "\n",
              "      <script>\n",
              "        const buttonEl =\n",
              "          document.querySelector('#df-69fac2d0-b178-4baf-93c2-61327dc7178b button.colab-df-convert');\n",
              "        buttonEl.style.display =\n",
              "          google.colab.kernel.accessAllowed ? 'block' : 'none';\n",
              "\n",
              "        async function convertToInteractive(key) {\n",
              "          const element = document.querySelector('#df-69fac2d0-b178-4baf-93c2-61327dc7178b');\n",
              "          const dataTable =\n",
              "            await google.colab.kernel.invokeFunction('convertToInteractive',\n",
              "                                                     [key], {});\n",
              "          if (!dataTable) return;\n",
              "\n",
              "          const docLinkHtml = 'Like what you see? Visit the ' +\n",
              "            '<a target=\"_blank\" href=https://colab.research.google.com/notebooks/data_table.ipynb>data table notebook</a>'\n",
              "            + ' to learn more about interactive tables.';\n",
              "          element.innerHTML = '';\n",
              "          dataTable['output_type'] = 'display_data';\n",
              "          await google.colab.output.renderOutput(dataTable, element);\n",
              "          const docLink = document.createElement('div');\n",
              "          docLink.innerHTML = docLinkHtml;\n",
              "          element.appendChild(docLink);\n",
              "        }\n",
              "      </script>\n",
              "    </div>\n",
              "  </div>\n",
              "  "
            ]
          },
          "metadata": {},
          "execution_count": 10
        }
      ],
      "source": [
        "Xf"
      ]
    },
    {
      "cell_type": "code",
      "execution_count": null,
      "id": "df836b8f",
      "metadata": {
        "id": "df836b8f"
      },
      "outputs": [],
      "source": [
        "from sklearn.utils import class_weight"
      ]
    },
    {
      "cell_type": "code",
      "execution_count": null,
      "id": "2a1c5229",
      "metadata": {
        "id": "2a1c5229"
      },
      "outputs": [],
      "source": [
        "x_train,x_test,y_train,y_test = train_test_split(Xf, Yf, test_size=0.3, random_state=0)"
      ]
    },
    {
      "cell_type": "code",
      "execution_count": null,
      "id": "efcb3863",
      "metadata": {
        "colab": {
          "base_uri": "https://localhost:8080/"
        },
        "id": "efcb3863",
        "outputId": "b85fd528-d8f3-4a46-ab6b-02e62f36ced4"
      },
      "outputs": [
        {
          "output_type": "execute_result",
          "data": {
            "text/plain": [
              "(136, 22)"
            ]
          },
          "metadata": {},
          "execution_count": 13
        }
      ],
      "source": [
        "x_train.shape"
      ]
    },
    {
      "cell_type": "code",
      "execution_count": null,
      "id": "0db2d1bb",
      "metadata": {
        "id": "0db2d1bb"
      },
      "outputs": [],
      "source": [
        "y_test = np.array(y_test)\n",
        "y_train = np.array(y_train)\n"
      ]
    },
    {
      "cell_type": "code",
      "execution_count": null,
      "id": "c9799f74",
      "metadata": {
        "colab": {
          "base_uri": "https://localhost:8080/"
        },
        "id": "c9799f74",
        "outputId": "4d5252e1-8353-4fa6-82ec-083d15a3948c"
      },
      "outputs": [
        {
          "output_type": "execute_result",
          "data": {
            "text/plain": [
              "array([1, 1, 1, 1, 1, 0, 1, 1, 1, 1, 1, 0, 1, 0, 1, 1, 1, 1, 0, 0, 0, 0,\n",
              "       1, 1, 1, 1, 0, 1, 1, 1, 0, 1, 1, 1, 1, 1, 1, 0, 0, 1, 1, 1, 1, 0,\n",
              "       1, 1, 1, 0, 0, 1, 1, 1, 1, 1, 1, 1, 1, 1, 1, 0, 1, 1, 1, 1, 0, 1,\n",
              "       1, 1, 1, 1, 1, 1, 0, 1, 1, 0, 1, 1, 1, 0, 1, 0, 1, 1, 1, 0, 1, 1,\n",
              "       0, 1, 1, 1, 0, 1, 1, 0, 1, 1, 1, 0, 1, 1, 0, 0, 1, 0, 1, 1, 1, 1,\n",
              "       1, 1, 1, 0, 1, 1, 1, 0, 1, 0, 0, 0, 1, 1, 1, 1, 1, 1, 1, 1, 1, 1,\n",
              "       1, 1, 0, 0])"
            ]
          },
          "metadata": {},
          "execution_count": 15
        }
      ],
      "source": [
        "y_train"
      ]
    },
    {
      "cell_type": "code",
      "execution_count": null,
      "id": "f0820e5e",
      "metadata": {
        "id": "f0820e5e"
      },
      "outputs": [],
      "source": [
        "class_weights = class_weight.compute_class_weight(class_weight='balanced',\n",
        "                                                 classes = np.unique(y_train),\n",
        "                                                 y=y_train)"
      ]
    },
    {
      "cell_type": "code",
      "execution_count": null,
      "id": "043e25ad",
      "metadata": {
        "colab": {
          "base_uri": "https://localhost:8080/"
        },
        "id": "043e25ad",
        "outputId": "8a97df8c-feaf-4fed-eee0-6575cf284202"
      },
      "outputs": [
        {
          "output_type": "execute_result",
          "data": {
            "text/plain": [
              "array([1.94285714, 0.67326733])"
            ]
          },
          "metadata": {},
          "execution_count": 17
        }
      ],
      "source": [
        "class_weights"
      ]
    },
    {
      "cell_type": "code",
      "execution_count": null,
      "id": "1be2ee53",
      "metadata": {
        "id": "1be2ee53"
      },
      "outputs": [],
      "source": [
        "class_weight = {0: 3.,\n",
        "                1: 1.}"
      ]
    },
    {
      "cell_type": "code",
      "execution_count": null,
      "id": "539ea71e",
      "metadata": {
        "id": "539ea71e"
      },
      "outputs": [],
      "source": [
        "from sklearn.preprocessing import StandardScaler"
      ]
    },
    {
      "cell_type": "code",
      "execution_count": null,
      "id": "2898a0c5",
      "metadata": {
        "id": "2898a0c5"
      },
      "outputs": [],
      "source": [
        "scaler = StandardScaler()"
      ]
    },
    {
      "cell_type": "code",
      "execution_count": null,
      "id": "24665f2b",
      "metadata": {
        "colab": {
          "base_uri": "https://localhost:8080/"
        },
        "id": "24665f2b",
        "outputId": "e2400bf8-5d5a-431c-c24b-313031f6fce7"
      },
      "outputs": [
        {
          "output_type": "execute_result",
          "data": {
            "text/plain": [
              "StandardScaler()"
            ]
          },
          "metadata": {},
          "execution_count": 21
        }
      ],
      "source": [
        "scaler.fit(x_train)"
      ]
    },
    {
      "cell_type": "code",
      "execution_count": null,
      "id": "56623ffe",
      "metadata": {
        "id": "56623ffe"
      },
      "outputs": [],
      "source": [
        "x_train_normal = scaler.transform(x_train)\n",
        "x_test_normal=scaler.transform(x_test)\n"
      ]
    },
    {
      "cell_type": "code",
      "execution_count": null,
      "id": "5ca9cb3b",
      "metadata": {
        "colab": {
          "base_uri": "https://localhost:8080/"
        },
        "id": "5ca9cb3b",
        "outputId": "b20852a6-e7e8-4c7f-e09a-11a214f659eb"
      },
      "outputs": [
        {
          "output_type": "execute_result",
          "data": {
            "text/plain": [
              "array([[ 1.20277786,  3.55007322,  1.46378495, ...,  0.37523479,\n",
              "         1.38253798,  0.70950026],\n",
              "       [-0.08490869, -0.40139205,  0.69127853, ..., -0.57555776,\n",
              "        -0.31740397, -0.64646829],\n",
              "       [-1.11208247, -0.68412437, -0.30308418, ..., -0.30690231,\n",
              "        -1.04720163,  1.20993771],\n",
              "       ...,\n",
              "       [ 0.41632981,  2.41567671, -0.86941153, ...,  1.69605993,\n",
              "         1.55536714,  0.84509927],\n",
              "       [ 2.43201619,  0.56163635,  1.59509347, ..., -0.36324299,\n",
              "        -0.93743211, -1.26715615],\n",
              "       [-1.06441596, -0.89097029, -0.36804959, ..., -0.46543789,\n",
              "        -1.3048217 , -0.32328725]])"
            ]
          },
          "metadata": {},
          "execution_count": 23
        }
      ],
      "source": [
        "x_train_normal"
      ]
    },
    {
      "cell_type": "code",
      "execution_count": null,
      "id": "947a173d",
      "metadata": {
        "colab": {
          "base_uri": "https://localhost:8080/"
        },
        "id": "947a173d",
        "outputId": "d0ddee89-83bd-4ab7-e6f1-9785a31711a7"
      },
      "outputs": [
        {
          "output_type": "execute_result",
          "data": {
            "text/plain": [
              "array([[-1.35887755, -1.00188268, -0.66104715, ..., -1.83845482,\n",
              "        -0.87167251, -0.28969673],\n",
              "       [-0.41832753, -0.43650645,  0.37155845, ..., -0.94120095,\n",
              "        -0.90410363, -0.70662576],\n",
              "       [ 1.19374787,  0.07167505,  1.93460009, ..., -0.63181426,\n",
              "        -2.21110636, -1.59259592],\n",
              "       ...,\n",
              "       [ 0.80957851,  0.07518158,  0.80306179, ...,  1.31294332,\n",
              "         1.51043619,  1.04630896],\n",
              "       [ 0.3139159 ,  0.01670996, -0.89316488, ...,  1.90191687,\n",
              "         2.45455716,  1.05131043],\n",
              "       [ 0.06226042, -0.14643695,  0.64581462, ...,  1.31198126,\n",
              "         1.24165312,  1.26813762]])"
            ]
          },
          "metadata": {},
          "execution_count": 24
        }
      ],
      "source": [
        "x_test_normal"
      ]
    },
    {
      "cell_type": "code",
      "execution_count": null,
      "id": "4b933f20",
      "metadata": {
        "id": "4b933f20"
      },
      "outputs": [],
      "source": [
        "from keras.layers import Input,Dense\n",
        "from keras.models import Model, Sequential\n",
        "from tensorflow.keras.optimizers import Adam \n",
        "import tensorflow as tf"
      ]
    },
    {
      "cell_type": "markdown",
      "source": [
        "# Calculate accuracy and metrics including precision and recall.\n",
        "Precision decreases as the number of healthy patients wrongly diagnosed with Parkinson's increases.\n",
        "Recall decreases as the number of Parkinson's patients wrongly diagnosed as healthy increases."
      ],
      "metadata": {
        "id": "bdfLeuUalYlo"
      },
      "id": "bdfLeuUalYlo"
    },
    {
      "cell_type": "code",
      "source": [
        "def accuracy(prediction,actual):\n",
        "    correct = 0\n",
        "    not_correct = 0\n",
        "    for i in range(len(prediction)):\n",
        "        if prediction[i] == actual[i]:\n",
        "            correct+=1\n",
        "        else:\n",
        "            not_correct+=1\n",
        "    return (correct*100)/(correct+not_correct)\n",
        "\n",
        "\n",
        "def metrics(prediction,actual):\n",
        "    tp = 0\n",
        "    tn = 0\n",
        "    fp = 0\n",
        "    fn = 0\n",
        "    for i in range(len(prediction)):\n",
        "        if prediction[i] == actual[i] and actual[i]==1:\n",
        "            tp+=1\n",
        "        if prediction[i] == actual[i] and actual[i]==0:\n",
        "            tn+=1\n",
        "        if prediction[i] != actual[i] and actual[i]==0:\n",
        "            fp+=1\n",
        "        if prediction[i] != actual[i] and actual[i]==1:\n",
        "            fn+=1\n",
        "    metrics = {'Precision':(tp/(tp+fp+tn+fn)),'Recall':(tp/(tp+fn))}\n",
        "    return (metrics)"
      ],
      "metadata": {
        "id": "MBlOABpXAkO9"
      },
      "id": "MBlOABpXAkO9",
      "execution_count": null,
      "outputs": []
    },
    {
      "cell_type": "code",
      "source": [
        "def build_network(input_features):\n",
        "    # first we specify an input layer, with a shape == features\n",
        "    inputs = Input(shape=input_features, name=\"input\")\n",
        "    x = Dense(128, activation='relu', name=\"hidden1\")(inputs)\n",
        "    x = Dense(64, activation='relu', name=\"hidden2\")(x)\n",
        "    x = Dense(32, activation='relu', name=\"hidden4\")(x)\n",
        "    x = Dense(16, activation='relu', name=\"hidden5\")(x)\n",
        "    prediction = Dense(1, activation='sigmoid', name=\"final\")(x)\n",
        "    model = Model(inputs=inputs, outputs=prediction)\n",
        "    \n",
        "    model.compile(optimizer='adam', loss='binary_crossentropy', metrics=[\"accuracy\",tf.keras.metrics.Precision(), tf.keras.metrics.Recall()])\n",
        "    return model"
      ],
      "metadata": {
        "id": "Fod7VWhKJf7-"
      },
      "id": "Fod7VWhKJf7-",
      "execution_count": null,
      "outputs": []
    },
    {
      "cell_type": "markdown",
      "source": [
        "#Random Forest Classifier"
      ],
      "metadata": {
        "id": "tY_Xfg8xgzU8"
      },
      "id": "tY_Xfg8xgzU8"
    },
    {
      "cell_type": "code",
      "source": [
        "clf=RandomForestClassifier()\n",
        "clf.fit(x_train_normal, y_train)\n",
        "preds=clf.predict(x_test_normal)\n",
        "print('accuracy:',accuracy(y_test.tolist(), preds.tolist()), '%')\n",
        "print(metrics(y_test.tolist(), preds.tolist()))"
      ],
      "metadata": {
        "colab": {
          "base_uri": "https://localhost:8080/"
        },
        "id": "-oBH8zIL_uBT",
        "outputId": "cb1a9428-96a5-4e33-f5ad-95fda3b99200"
      },
      "id": "-oBH8zIL_uBT",
      "execution_count": null,
      "outputs": [
        {
          "output_type": "stream",
          "name": "stdout",
          "text": [
            "accuracy: 94.91525423728814 %\n",
            "{'Precision': 0.7457627118644068, 'Recall': 0.9777777777777777}\n"
          ]
        }
      ]
    },
    {
      "cell_type": "markdown",
      "source": [
        "#SVM"
      ],
      "metadata": {
        "id": "QSZ4oqzLhHiY"
      },
      "id": "QSZ4oqzLhHiY"
    },
    {
      "cell_type": "code",
      "source": [
        "clf=SVC()\n",
        "clf.fit(x_train_normal, y_train)\n",
        "preds=clf.predict(x_test_normal)\n",
        "print('accuracy:',accuracy(y_test.tolist(), preds.tolist()), '%')\n",
        "print(metrics(y_test.tolist(), preds.tolist()))"
      ],
      "metadata": {
        "colab": {
          "base_uri": "https://localhost:8080/"
        },
        "id": "xiGCkVgFCXnw",
        "outputId": "cba3dd77-535b-4628-8309-5575b8a8e41f"
      },
      "id": "xiGCkVgFCXnw",
      "execution_count": null,
      "outputs": [
        {
          "output_type": "stream",
          "name": "stdout",
          "text": [
            "accuracy: 93.22033898305085 %\n",
            "{'Precision': 0.7796610169491526, 'Recall': 0.92}\n"
          ]
        }
      ]
    },
    {
      "cell_type": "code",
      "execution_count": null,
      "id": "9da9b328",
      "metadata": {
        "id": "9da9b328"
      },
      "outputs": [],
      "source": [
        "input_features = x_train_normal.shape[1]"
      ]
    },
    {
      "cell_type": "code",
      "execution_count": null,
      "id": "2418659e",
      "metadata": {
        "colab": {
          "base_uri": "https://localhost:8080/"
        },
        "id": "2418659e",
        "outputId": "e5890e79-85e5-4b53-a374-0c43162f2237"
      },
      "outputs": [
        {
          "output_type": "execute_result",
          "data": {
            "text/plain": [
              "22"
            ]
          },
          "metadata": {},
          "execution_count": 31
        }
      ],
      "source": [
        "input_features"
      ]
    },
    {
      "cell_type": "code",
      "execution_count": null,
      "id": "6c9005c0",
      "metadata": {
        "id": "6c9005c0"
      },
      "outputs": [],
      "source": [
        "model1 = build_network(input_features=input_features)"
      ]
    },
    {
      "cell_type": "code",
      "execution_count": null,
      "id": "6b2253f4",
      "metadata": {
        "colab": {
          "base_uri": "https://localhost:8080/"
        },
        "id": "6b2253f4",
        "outputId": "13ddd459-31e3-4cd2-f76e-18b11005367b"
      },
      "outputs": [
        {
          "output_type": "stream",
          "name": "stdout",
          "text": [
            "Model: \"model\"\n",
            "_________________________________________________________________\n",
            " Layer (type)                Output Shape              Param #   \n",
            "=================================================================\n",
            " input (InputLayer)          [(None, 22)]              0         \n",
            "                                                                 \n",
            " hidden1 (Dense)             (None, 128)               2944      \n",
            "                                                                 \n",
            " hidden2 (Dense)             (None, 64)                8256      \n",
            "                                                                 \n",
            " hidden4 (Dense)             (None, 32)                2080      \n",
            "                                                                 \n",
            " hidden5 (Dense)             (None, 16)                528       \n",
            "                                                                 \n",
            " final (Dense)               (None, 1)                 17        \n",
            "                                                                 \n",
            "=================================================================\n",
            "Total params: 13,825\n",
            "Trainable params: 13,825\n",
            "Non-trainable params: 0\n",
            "_________________________________________________________________\n"
          ]
        }
      ],
      "source": [
        "model1.summary()"
      ]
    },
    {
      "cell_type": "markdown",
      "id": "a9db248f",
      "metadata": {
        "id": "a9db248f"
      },
      "source": [
        "# CNN MODEL "
      ]
    },
    {
      "cell_type": "code",
      "execution_count": null,
      "id": "3b377ccd",
      "metadata": {
        "colab": {
          "base_uri": "https://localhost:8080/"
        },
        "id": "3b377ccd",
        "outputId": "96a882d9-536a-4da5-cac4-b8a333bff2eb"
      },
      "outputs": [
        {
          "output_type": "stream",
          "name": "stdout",
          "text": [
            "Epoch 1/25\n",
            "9/9 [==============================] - 2s 77ms/step - loss: 0.9405 - accuracy: 0.7941 - precision: 0.8349 - recall: 0.9010 - val_loss: 0.5293 - val_accuracy: 0.8136 - val_precision: 0.9070 - val_recall: 0.8478\n",
            "Epoch 2/25\n",
            "9/9 [==============================] - 0s 7ms/step - loss: 0.7676 - accuracy: 0.7647 - precision: 0.9481 - recall: 0.7228 - val_loss: 0.4656 - val_accuracy: 0.8305 - val_precision: 1.0000 - val_recall: 0.7826\n",
            "Epoch 3/25\n",
            "9/9 [==============================] - 0s 6ms/step - loss: 0.6321 - accuracy: 0.7794 - precision: 0.9863 - recall: 0.7129 - val_loss: 0.3789 - val_accuracy: 0.8305 - val_precision: 0.9737 - val_recall: 0.8043\n",
            "Epoch 4/25\n",
            "9/9 [==============================] - 0s 10ms/step - loss: 0.5249 - accuracy: 0.8162 - precision: 0.9750 - recall: 0.7723 - val_loss: 0.3039 - val_accuracy: 0.8644 - val_precision: 0.9750 - val_recall: 0.8478\n",
            "Epoch 5/25\n",
            "9/9 [==============================] - 0s 6ms/step - loss: 0.4341 - accuracy: 0.8897 - precision: 0.9778 - recall: 0.8713 - val_loss: 0.2764 - val_accuracy: 0.8644 - val_precision: 0.9750 - val_recall: 0.8478\n",
            "Epoch 6/25\n",
            "9/9 [==============================] - 0s 6ms/step - loss: 0.3472 - accuracy: 0.8824 - precision: 0.9885 - recall: 0.8515 - val_loss: 0.2599 - val_accuracy: 0.8814 - val_precision: 0.9756 - val_recall: 0.8696\n",
            "Epoch 7/25\n",
            "9/9 [==============================] - 0s 6ms/step - loss: 0.2884 - accuracy: 0.9412 - precision: 0.9895 - recall: 0.9307 - val_loss: 0.2097 - val_accuracy: 0.9153 - val_precision: 0.9767 - val_recall: 0.9130\n",
            "Epoch 8/25\n",
            "9/9 [==============================] - 0s 8ms/step - loss: 0.2193 - accuracy: 0.9706 - precision: 1.0000 - recall: 0.9604 - val_loss: 0.2099 - val_accuracy: 0.8983 - val_precision: 0.9762 - val_recall: 0.8913\n",
            "Epoch 9/25\n",
            "9/9 [==============================] - 0s 6ms/step - loss: 0.1827 - accuracy: 0.9779 - precision: 1.0000 - recall: 0.9703 - val_loss: 0.1926 - val_accuracy: 0.9153 - val_precision: 0.9767 - val_recall: 0.9130\n",
            "Epoch 10/25\n",
            "9/9 [==============================] - 0s 8ms/step - loss: 0.1434 - accuracy: 0.9853 - precision: 1.0000 - recall: 0.9802 - val_loss: 0.1841 - val_accuracy: 0.9153 - val_precision: 0.9767 - val_recall: 0.9130\n",
            "Epoch 11/25\n",
            "9/9 [==============================] - 0s 8ms/step - loss: 0.1151 - accuracy: 0.9853 - precision: 1.0000 - recall: 0.9802 - val_loss: 0.1520 - val_accuracy: 0.9492 - val_precision: 0.9778 - val_recall: 0.9565\n",
            "Epoch 12/25\n",
            "9/9 [==============================] - 0s 8ms/step - loss: 0.0896 - accuracy: 0.9853 - precision: 1.0000 - recall: 0.9802 - val_loss: 0.1615 - val_accuracy: 0.9492 - val_precision: 0.9778 - val_recall: 0.9565\n",
            "Epoch 13/25\n",
            "9/9 [==============================] - 0s 6ms/step - loss: 0.0797 - accuracy: 0.9926 - precision: 1.0000 - recall: 0.9901 - val_loss: 0.1546 - val_accuracy: 0.9492 - val_precision: 0.9778 - val_recall: 0.9565\n",
            "Epoch 14/25\n",
            "9/9 [==============================] - 0s 6ms/step - loss: 0.0784 - accuracy: 0.9853 - precision: 1.0000 - recall: 0.9802 - val_loss: 0.2013 - val_accuracy: 0.9322 - val_precision: 1.0000 - val_recall: 0.9130\n",
            "Epoch 15/25\n",
            "9/9 [==============================] - 0s 6ms/step - loss: 0.0566 - accuracy: 0.9926 - precision: 1.0000 - recall: 0.9901 - val_loss: 0.1312 - val_accuracy: 0.9492 - val_precision: 0.9778 - val_recall: 0.9565\n",
            "Epoch 16/25\n",
            "9/9 [==============================] - 0s 6ms/step - loss: 0.0530 - accuracy: 1.0000 - precision: 1.0000 - recall: 1.0000 - val_loss: 0.1531 - val_accuracy: 0.9492 - val_precision: 0.9778 - val_recall: 0.9565\n",
            "Epoch 17/25\n",
            "9/9 [==============================] - 0s 6ms/step - loss: 0.0509 - accuracy: 0.9926 - precision: 1.0000 - recall: 0.9901 - val_loss: 0.1928 - val_accuracy: 0.9492 - val_precision: 1.0000 - val_recall: 0.9348\n",
            "Epoch 18/25\n",
            "9/9 [==============================] - 0s 8ms/step - loss: 0.0331 - accuracy: 1.0000 - precision: 1.0000 - recall: 1.0000 - val_loss: 0.1560 - val_accuracy: 0.9492 - val_precision: 0.9778 - val_recall: 0.9565\n",
            "Epoch 19/25\n",
            "9/9 [==============================] - 0s 7ms/step - loss: 0.0294 - accuracy: 1.0000 - precision: 1.0000 - recall: 1.0000 - val_loss: 0.1983 - val_accuracy: 0.9322 - val_precision: 0.9773 - val_recall: 0.9348\n",
            "Epoch 20/25\n",
            "9/9 [==============================] - 0s 7ms/step - loss: 0.0238 - accuracy: 0.9926 - precision: 1.0000 - recall: 0.9901 - val_loss: 0.1749 - val_accuracy: 0.9322 - val_precision: 0.9773 - val_recall: 0.9348\n",
            "Epoch 21/25\n",
            "9/9 [==============================] - 0s 8ms/step - loss: 0.0159 - accuracy: 1.0000 - precision: 1.0000 - recall: 1.0000 - val_loss: 0.1702 - val_accuracy: 0.9492 - val_precision: 0.9778 - val_recall: 0.9565\n",
            "Epoch 22/25\n",
            "9/9 [==============================] - 0s 8ms/step - loss: 0.0142 - accuracy: 1.0000 - precision: 1.0000 - recall: 1.0000 - val_loss: 0.1742 - val_accuracy: 0.9492 - val_precision: 0.9778 - val_recall: 0.9565\n",
            "Epoch 23/25\n",
            "9/9 [==============================] - 0s 6ms/step - loss: 0.0122 - accuracy: 1.0000 - precision: 1.0000 - recall: 1.0000 - val_loss: 0.1833 - val_accuracy: 0.9492 - val_precision: 0.9778 - val_recall: 0.9565\n",
            "Epoch 24/25\n",
            "9/9 [==============================] - 0s 8ms/step - loss: 0.0108 - accuracy: 1.0000 - precision: 1.0000 - recall: 1.0000 - val_loss: 0.1892 - val_accuracy: 0.9322 - val_precision: 0.9773 - val_recall: 0.9348\n",
            "Epoch 25/25\n",
            "9/9 [==============================] - 0s 8ms/step - loss: 0.0095 - accuracy: 1.0000 - precision: 1.0000 - recall: 1.0000 - val_loss: 0.1935 - val_accuracy: 0.9492 - val_precision: 0.9778 - val_recall: 0.9565\n"
          ]
        }
      ],
      "source": [
        "history1 =model1.fit(x_train_normal, y_train, batch_size=16, epochs=25, verbose=1, validation_data=(x_test_normal, y_test),class_weight=class_weight)\n"
      ]
    },
    {
      "cell_type": "code",
      "execution_count": null,
      "id": "1a383a07",
      "metadata": {
        "id": "1a383a07"
      },
      "outputs": [],
      "source": [
        "from matplotlib import pyplot as plt\n",
        "def plot_graphs(history, string):\n",
        "  plt.plot(history.history[string])\n",
        "  plt.plot(history.history['val_'+string])\n",
        "  plt.xlabel(\"Epochs\")\n",
        "  plt.ylabel(string)\n",
        "  plt.legend([string, 'val_'+string])\n",
        "  plt.show()\n"
      ]
    },
    {
      "cell_type": "code",
      "execution_count": null,
      "id": "86affa18",
      "metadata": {
        "colab": {
          "base_uri": "https://localhost:8080/",
          "height": 541
        },
        "id": "86affa18",
        "outputId": "ff473d5a-563b-481e-c69a-020f9930faa6"
      },
      "outputs": [
        {
          "output_type": "display_data",
          "data": {
            "text/plain": [
              "<Figure size 432x288 with 1 Axes>"
            ],
            "image/png": "[encoded data removed]"
          },
          "metadata": {
            "needs_background": "light"
          }
        },
        {
          "output_type": "display_data",
          "data": {
            "text/plain": [
              "<Figure size 432x288 with 1 Axes>"
            ],
            "image/png": "[encoded data removed]"
          },
          "metadata": {
            "needs_background": "light"
          }
        }
      ],
      "source": [
        "plot_graphs(history1, \"accuracy\")\n",
        "plot_graphs(history1, \"loss\")"
      ]
    },
    {
      "cell_type": "code",
      "source": [
        "train_accuracy=model1.evaluate(x_train_normal,y_train)"
      ],
      "metadata": {
        "colab": {
          "base_uri": "https://localhost:8080/"
        },
        "id": "wG-CORG9lpsY",
        "outputId": "b6243c95-f31b-434c-a18e-426f18a30ec0"
      },
      "id": "wG-CORG9lpsY",
      "execution_count": null,
      "outputs": [
        {
          "output_type": "stream",
          "name": "stdout",
          "text": [
            "5/5 [==============================] - 0s 3ms/step - loss: 0.0066 - accuracy: 1.0000 - precision: 1.0000 - recall: 1.0000\n"
          ]
        }
      ]
    },
    {
      "cell_type": "code",
      "source": [
        "test_accuracy=model1.evaluate(x_test_normal,y_test)"
      ],
      "metadata": {
        "colab": {
          "base_uri": "https://localhost:8080/"
        },
        "id": "L3_wiEsblr07",
        "outputId": "1f6e6e14-b922-43e5-e85b-049c793d1bf9"
      },
      "id": "L3_wiEsblr07",
      "execution_count": null,
      "outputs": [
        {
          "output_type": "stream",
          "name": "stdout",
          "text": [
            "2/2 [==============================] - 0s 8ms/step - loss: 0.1935 - accuracy: 0.9492 - precision: 0.9778 - recall: 0.9565\n"
          ]
        }
      ]
    }
  ],
  "metadata": {
    "kernelspec": {
      "display_name": "Python 3",
      "language": "python",
      "name": "python3"
    },
    "language_info": {
      "codemirror_mode": {
        "name": "ipython",
        "version": 3
      },
      "file_extension": ".py",
      "mimetype": "text/x-python",
      "name": "python",
      "nbconvert_exporter": "python",
      "pygments_lexer": "ipython3",
      "version": "3.9.5"
    },
    "colab": {
      "name": "Working_Parkinson_Voice .ipynb",
      "provenance": []
    }
  },
  "nbformat": 4,
  "nbformat_minor": 5
}